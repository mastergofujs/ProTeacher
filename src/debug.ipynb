{
 "cells": [
  {
   "cell_type": "code",
   "execution_count": 1,
   "metadata": {},
   "outputs": [],
   "source": [
    "import os\n",
    "from matplotlib import pyplot as plt"
   ]
  },
  {
   "cell_type": "code",
   "execution_count": 5,
   "metadata": {},
   "outputs": [
    {
     "ename": "TypeError",
     "evalue": "filter expected 2 arguments, got 1",
     "output_type": "error",
     "traceback": [
      "\u001b[0;31m---------------------------------------------------------------------------\u001b[0m",
      "\u001b[0;31mTypeError\u001b[0m                                 Traceback (most recent call last)",
      "\u001b[0;32m/tmp/ipykernel_2955661/2751736784.py\u001b[0m in \u001b[0;36m<module>\u001b[0;34m\u001b[0m\n\u001b[0;32m----> 1\u001b[0;31m \u001b[0mexp_names\u001b[0m \u001b[0;34m=\u001b[0m \u001b[0mos\u001b[0m\u001b[0;34m.\u001b[0m\u001b[0mlistdir\u001b[0m\u001b[0;34m(\u001b[0m\u001b[0;34m\"../exp/\"\u001b[0m\u001b[0;34m,\u001b[0m \u001b[0mfilter\u001b[0m\u001b[0;34m(\u001b[0m\u001b[0;34m'19'\u001b[0m\u001b[0;34m)\u001b[0m\u001b[0;34m)\u001b[0m\u001b[0;34m\u001b[0m\u001b[0;34m\u001b[0m\u001b[0m\n\u001b[0m",
      "\u001b[0;31mTypeError\u001b[0m: filter expected 2 arguments, got 1"
     ]
    }
   ],
   "source": [
    "labels = ['(0, 0)', '(1, 1)', '(1, 3)', '(1, 5)', '(1, 7)', '(1, 9)', \n",
    "          '(2, 1)', '(2, 3)', '(2, 5)', '(2, 7)', '(2, 9)',\n",
    "          '(3, 1)', '(3, 3)', '(3, 5)', '(3, 7)', '(3, 9)']\n",
    "datas = [(48.96, 36.02, 56.70), \n",
    "         (50.14, 37.19, 55.16), (47.59, 39.25, 59.57), (49.40, 38.24, 59.02), (49.35, 37.20, 59.14), (49.97, 38.43, 57.32),\n",
    "         (49.14, 36.59, 55.66), (46.88, 36.60, 57.08), (49.79, 38.37, 57.78), (49.43, 37.43, 59.06), ()]"
   ]
  },
  {
   "cell_type": "code",
   "execution_count": 4,
   "metadata": {},
   "outputs": [
    {
     "data": {
      "text/plain": [
       "['20_baseline_no_mixup_stop',\n",
       " '20_proteacher_l1p10',\n",
       " '20_baseline_local',\n",
       " '19_proteacher_l3p1',\n",
       " '19_proteacher_l2p3',\n",
       " '19_proteacher_l3p7',\n",
       " '19_proteacher_l2p5',\n",
       " '20_baseline_prompt',\n",
       " '19_proteacher_l2p9',\n",
       " '20_baseline_no_mixup',\n",
       " '20_proteacher_l3p10',\n",
       " '20_baseline_1',\n",
       " '20_baseline_1_no_mixup',\n",
       " '20_proteacher_l1p1',\n",
       " '20_proteacher_l1p5',\n",
       " '20_proteacher_l1p3',\n",
       " '20_baseline_prompt_none',\n",
       " '19_proteacher_l2p1',\n",
       " '20_baseline',\n",
       " '20_proteacher_l3p1',\n",
       " '20_proteacher_l2p3',\n",
       " '19_proteacher_l2p7',\n",
       " '19_proteacher_l1p9',\n",
       " '19_proteacher_l1p1',\n",
       " '20_proteacher_l2p5',\n",
       " '19_proteacher_l1p3',\n",
       " '19_proteacher_l3p3',\n",
       " '20_proteacher_l3p5',\n",
       " '20_baseline_prompt_all',\n",
       " '20_baseline_prompt_w_u',\n",
       " '19_proteacher_l3p9',\n",
       " '19_proteacher_l1p7',\n",
       " '19_baseline',\n",
       " '19_proteacher_l3p5',\n",
       " '20_proteacher_l2p1',\n",
       " '19_proteacher_l1p5']"
      ]
     },
     "execution_count": 4,
     "metadata": {},
     "output_type": "execute_result"
    }
   ],
   "source": [
    "exp_names"
   ]
  }
 ],
 "metadata": {
  "kernelspec": {
   "display_name": "sed_torch",
   "language": "python",
   "name": "python3"
  },
  "language_info": {
   "codemirror_mode": {
    "name": "ipython",
    "version": 3
   },
   "file_extension": ".py",
   "mimetype": "text/x-python",
   "name": "python",
   "nbconvert_exporter": "python",
   "pygments_lexer": "ipython3",
   "version": "3.8.0"
  },
  "orig_nbformat": 4
 },
 "nbformat": 4,
 "nbformat_minor": 2
}
