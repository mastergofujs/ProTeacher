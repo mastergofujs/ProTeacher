{
 "cells": [
  {
   "cell_type": "code",
   "execution_count": 1,
   "metadata": {},
   "outputs": [],
   "source": [
    "import yaml\n",
    "with open('../config/dcase19_proteacher.yaml') as f:\n",
    "    cfg = yaml.safe_load(f)"
   ]
  },
  {
   "cell_type": "code",
   "execution_count": null,
   "metadata": {
    "vscode": {
     "languageId": "bat"
    }
   },
   "outputs": [],
   "source": [
    "ls ."
   ]
  },
  {
   "cell_type": "code",
   "execution_count": 2,
   "metadata": {},
   "outputs": [],
   "source": [
    "# %load src/models/pro_teacher.py\n",
    "import torch\n",
    "import math\n",
    "from models.conformer.conformer_encoder import ConformerPromptedEncoder\n",
    "from models.conformer.downsampler import CNNLocalDownsampler\n",
    "\n",
    "    \n",
    "class SEDModel(torch.nn.Module):\n",
    "    def __init__(\n",
    "        self,\n",
    "        n_class,\n",
    "        cnn_kwargs=None,\n",
    "        encoder_kwargs=None,\n",
    "        pooling=\"token\",\n",
    "        layer_init=\"pytorch\",\n",
    "    ):\n",
    "        super(SEDModel, self).__init__()\n",
    "        self.cnn_downsampler = CNNLocalDownsampler(n_in_channel=1, **cnn_kwargs)\n",
    "        input_dim = self.cnn_downsampler.cnn.nb_filters[-1]\n",
    "        adim = encoder_kwargs[\"adim\"]\n",
    "        self.pooling = pooling\n",
    "        self.encoder = ConformerPromptedEncoder(input_dim, **encoder_kwargs)\n",
    "        self.pred_head = torch.nn.Linear(adim, n_class)\n",
    "\n",
    "        if self.pooling == \"attention\":\n",
    "            self.dense = torch.nn.Linear(adim, n_class)\n",
    "            self.sigmoid = torch.sigmoid\n",
    "            self.softmax = torch.nn.Softmax(dim=-1)\n",
    "\n",
    "        elif self.pooling == \"token\":\n",
    "            # self.cls_token = torch.nn.Linear(1, input_dim)\n",
    "            self.tag_token = torch.nn.Parameter(torch.zeros(1, 1, input_dim))\n",
    "        self.dropout = torch.nn.Dropout(0.1)\n",
    "        self.reset_parameters(layer_init)\n",
    "\n",
    "    def forward(self, x, mask=None, prompt_tuning=True):\n",
    "        x = self.cnn_downsampler(x)\n",
    "        # x = x.squeeze(-1).permute(0, 2, 1)\n",
    "        seq_len = x.size(1)\n",
    "        if self.pooling == \"token\":\n",
    "            x = torch.cat([self.tag_token.expand(x.size(0), -1, -1), x], dim=1)\n",
    "            \n",
    "        x, mask = self.encoder(x, mask, prompt_tuning)\n",
    "        \n",
    "        # clip head input\n",
    "        x = torch.cat([x[:, 0:1], x[:, - seq_len:]], dim=1)\n",
    "        if self.pooling == \"attention\":\n",
    "            strong = self.pred_head(x)\n",
    "            sof = self.dense(x)  # [bs, frames, nclass]\n",
    "            sof = self.softmax(sof)\n",
    "            sof = torch.clamp(sof, min=1e-7, max=1)\n",
    "            weak = (torch.sigmoid(strong) * sof).sum(1) / sof.sum(1)  # [bs, nclass]\n",
    "            # Convert to logit to calculate loss with bcelosswithlogits\n",
    "            weak = torch.log(weak / (1 - weak))\n",
    "            \n",
    "        elif self.pooling == \"token\":\n",
    "            x = self.pred_head(x)\n",
    "            weak = x[:, 0, :]\n",
    "            strong = x[:, 1:, :]\n",
    "            \n",
    "        return {\"strong\": strong, \"weak\": weak}, mask\n",
    "\n",
    "    def reset_parameters(self, initialization: str = \"pytorch\"):\n",
    "        if initialization.lower() == \"pytorch\":\n",
    "            return\n",
    "        # weight init\n",
    "        for p in self.parameters():\n",
    "            if p.dim() > 1:\n",
    "                if initialization.lower() == \"xavier_uniform\":\n",
    "                    torch.nn.init.xavier_uniform_(p.data)\n",
    "                elif initialization.lower() == \"xavier_normal\":\n",
    "                    torch.nn.init.xavier_normal_(p.data)\n",
    "                elif initialization.lower() == \"kaiming_uniform\":\n",
    "                    torch.nn.init.kaiming_uniform_(p.data, nonlinearity=\"relu\")\n",
    "                elif initialization.lower() == \"kaiming_normal\":\n",
    "                    torch.nn.init.kaiming_normal_(p.data, nonlinearity=\"relu\")\n",
    "                else:\n",
    "                    raise ValueError(f\"Unknown initialization: {initialization}\")\n",
    "        # bias init\n",
    "        for p in self.parameters():\n",
    "            if p.dim() == 1:\n",
    "                p.data.zero_()\n",
    "        # reset some modules with default init\n",
    "        for m in self.modules():\n",
    "            if isinstance(m, (torch.nn.Embedding, LayerNorm)):\n",
    "                m.reset_parameters()\n",
    "                \n",
    "    def get_masked_parameters(self, mask_param=None):\n",
    "        if mask_param is not None:\n",
    "            return self.parameters()"
   ]
  },
  {
   "cell_type": "code",
   "execution_count": 3,
   "metadata": {},
   "outputs": [
    {
     "data": {
      "text/plain": [
       "{'feature': {'audio_root': '/data0/gaolj/sed_data/DCASE2019/audio',\n",
       "  'feat_root': '/data0/gaolj/sed_data/DCASE2019/features',\n",
       "  'sample_rate': 16000,\n",
       "  'gain': -3,\n",
       "  'highpass': 10,\n",
       "  'mel_spec': {'n_mels': 64, 'n_fft': 1024, 'hop_size': 323}},\n",
       " 'model': {'cnn': {'activation': 'Relu',\n",
       "   'conv_dropout': 0.1,\n",
       "   'kernel_size': [3, 3, 3, 3, 3, 3, 3],\n",
       "   'padding': [1, 1, 1, 1, 1, 1, 1],\n",
       "   'stride': [1, 1, 1, 1, 1, 1, 1],\n",
       "   'nb_filters': [16, 32, 64, 128, 128, 128, 128],\n",
       "   'pooling': [[2, 2], [2, 2], [2, 2], [1, 2], [1, 2], [1, 2], [1, 1]]},\n",
       "  'encoder_type': 'Conformer',\n",
       "  'encoder': {'adim': 144,\n",
       "   'aheads': 4,\n",
       "   'dropout_rate': 0.1,\n",
       "   'elayers': 3,\n",
       "   'eunits': 576,\n",
       "   'kernel_size': 7,\n",
       "   'prompt_nums': 7,\n",
       "   'prompt_layers': 3},\n",
       "  'decoder': {'idim': 144,\n",
       "   'adim': 144,\n",
       "   'fdim': 64,\n",
       "   'aheads': 4,\n",
       "   'dropout_rate': 0.1,\n",
       "   'elayers': 2,\n",
       "   'eunits': 256,\n",
       "   'kernel_size': 7,\n",
       "   'cnn_upsampler': {'activation': 'Relu',\n",
       "    'conv_dropout': 0.1,\n",
       "    'kernel_size': [2, 2, 2],\n",
       "    'padding': [0, 0, 0],\n",
       "    'stride': [2, 2, 2],\n",
       "    'nb_filters': [128, 128, 64]}},\n",
       "  'mask': {'mask_size': 1, 'mask_ratio': 0.5}},\n",
       " 'wandb_project': 'DCASE19_ProTeacher',\n",
       " 'exp_name': '19_proteacher_l3p9',\n",
       " 'resume': None,\n",
       " 'pretrained': None,\n",
       " 'synth_meta': '/data0/gaolj/sed_data/DCASE2019/metadata/train/synthetic.tsv',\n",
       " 'weak_meta': '/data0/gaolj/sed_data/DCASE2019/metadata/train/weak.tsv',\n",
       " 'unlabel_meta': '/data0/gaolj/sed_data/DCASE2019/metadata/train/unlabel_in_domain.tsv',\n",
       " 'valid_meta': '/data0/gaolj/sed_data/DCASE2019/metadata/validation/validation.tsv',\n",
       " 'valid_audio_dir': '/data0/gaolj/sed_data/DCASE2019/audio/validation/validation',\n",
       " 'max_len_seconds': 10,\n",
       " 'pooling_time_ratio': 8,\n",
       " 'norm_mode': 'gcmvn',\n",
       " 'apply_prob': 0.5,\n",
       " 'data_aug': {'semi_supervised_training': True,\n",
       "  'time_shift': {'apply': True, 'params': {'mean': 0, 'std': 90}},\n",
       "  'frequency_shift': {'apply': False, 'params': {'mean': 0, 'std': 3}},\n",
       "  'frequency_mask': {'apply': False,\n",
       "   'params': {'num_masks': 1, 'mask_param': 100}},\n",
       "  'add_noise': {'apply': False,\n",
       "   'params': {'mean': 0.0, 'std': 0.01, 'snr': 30}}},\n",
       " 'seed': 1,\n",
       " 'ngpu': 1,\n",
       " 'batch_size': 32,\n",
       " 'num_workers': 8,\n",
       " 'optimizer': 'RAdam',\n",
       " 'optimizer_params': {'lr': 0.001,\n",
       "  'betas': [0.9, 0.98],\n",
       "  'eps': 1e-09,\n",
       "  'weight_decay': 1e-06},\n",
       " 'scheduler': 'StepLR',\n",
       " 'scheduler_params': {'step_size': 10000, 'gamma': 0.1},\n",
       " 'trainer_options': {'accum_grad': 1,\n",
       "  'grad_clip': 5.0,\n",
       "  'log_interval': 250,\n",
       "  'train_steps': 30000,\n",
       "  'rampup_length': 10000,\n",
       "  'consistency_cost': 2,\n",
       "  'reconstruction_cost': 0.3,\n",
       "  'use_mixup': False,\n",
       "  'binarization_type': 'global_threshold',\n",
       "  'threshold': 0.5,\n",
       "  'early_stopping': False,\n",
       "  'patience': 20,\n",
       "  'withlogits': True}}"
      ]
     },
     "execution_count": 3,
     "metadata": {},
     "output_type": "execute_result"
    }
   ],
   "source": [
    "cfg"
   ]
  },
  {
   "cell_type": "code",
   "execution_count": 4,
   "metadata": {},
   "outputs": [],
   "source": [
    "model = SEDModel(n_class=10, cnn_kwargs=cfg[\"model\"][\"cnn\"],\n",
    "                     encoder_kwargs=cfg[\"model\"][\"encoder\"],)"
   ]
  },
  {
   "cell_type": "code",
   "execution_count": null,
   "metadata": {},
   "outputs": [],
   "source": [
    "x = torch.ones(2, 1, 496, 64)\n",
    "_, mask = model(x)"
   ]
  },
  {
   "cell_type": "code",
   "execution_count": null,
   "metadata": {},
   "outputs": [],
   "source": [
    "mask_np = mask.float().data.cpu().numpy()"
   ]
  },
  {
   "cell_type": "code",
   "execution_count": null,
   "metadata": {},
   "outputs": [],
   "source": [
    "from matplotlib import pyplot as plt"
   ]
  },
  {
   "cell_type": "code",
   "execution_count": null,
   "metadata": {},
   "outputs": [],
   "source": [
    "plt.imshow(mask_np)"
   ]
  },
  {
   "cell_type": "code",
   "execution_count": 1,
   "metadata": {},
   "outputs": [
    {
     "ename": "NameError",
     "evalue": "name 'model' is not defined",
     "output_type": "error",
     "traceback": [
      "\u001b[0;31m---------------------------------------------------------------------------\u001b[0m",
      "\u001b[0;31mNameError\u001b[0m                                 Traceback (most recent call last)",
      "\u001b[0;32m/tmp/ipykernel_3564519/1973263810.py\u001b[0m in \u001b[0;36m<module>\u001b[0;34m\u001b[0m\n\u001b[0;32m----> 1\u001b[0;31m \u001b[0matt_np\u001b[0m \u001b[0;34m=\u001b[0m \u001b[0mmodel\u001b[0m\u001b[0;34m.\u001b[0m\u001b[0mencoder\u001b[0m\u001b[0;34m.\u001b[0m\u001b[0mconformer_blocks\u001b[0m\u001b[0;34m[\u001b[0m\u001b[0;34m-\u001b[0m\u001b[0;36m1\u001b[0m\u001b[0;34m]\u001b[0m\u001b[0;34m.\u001b[0m\u001b[0mmhsa\u001b[0m\u001b[0;34m.\u001b[0m\u001b[0mattn\u001b[0m\u001b[0;34m[\u001b[0m\u001b[0;34m:\u001b[0m\u001b[0;34m,\u001b[0m \u001b[0;34m:\u001b[0m\u001b[0;34m,\u001b[0m \u001b[0;36m0\u001b[0m\u001b[0;34m,\u001b[0m \u001b[0;36m0\u001b[0m\u001b[0;34m]\u001b[0m\u001b[0;34m.\u001b[0m\u001b[0mdata\u001b[0m\u001b[0;34m.\u001b[0m\u001b[0mcpu\u001b[0m\u001b[0;34m(\u001b[0m\u001b[0;34m)\u001b[0m\u001b[0;34m.\u001b[0m\u001b[0mnumpy\u001b[0m\u001b[0;34m(\u001b[0m\u001b[0;34m)\u001b[0m\u001b[0;34m\u001b[0m\u001b[0;34m\u001b[0m\u001b[0m\n\u001b[0m",
      "\u001b[0;31mNameError\u001b[0m: name 'model' is not defined"
     ]
    }
   ],
   "source": [
    "att_np = model.encoder.conformer_blocks[-1].mhsa.attn[:, :, 0, 0].data.cpu().numpy()"
   ]
  },
  {
   "cell_type": "code",
   "execution_count": null,
   "metadata": {},
   "outputs": [],
   "source": [
    "plt.imshow(att_np)"
   ]
  },
  {
   "cell_type": "code",
   "execution_count": null,
   "metadata": {},
   "outputs": [],
   "source": []
  }
 ],
 "metadata": {
  "kernelspec": {
   "display_name": "sed_torch",
   "language": "python",
   "name": "python3"
  },
  "language_info": {
   "codemirror_mode": {
    "name": "ipython",
    "version": 3
   },
   "file_extension": ".py",
   "mimetype": "text/x-python",
   "name": "python",
   "nbconvert_exporter": "python",
   "pygments_lexer": "ipython3",
   "version": "3.8.0"
  },
  "orig_nbformat": 4
 },
 "nbformat": 4,
 "nbformat_minor": 2
}
